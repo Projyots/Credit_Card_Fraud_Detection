{
 "cells": [
  {
   "cell_type": "markdown",
   "id": "83bab3d6",
   "metadata": {},
   "source": [
    "## CREDIT CARD FRAUD TRANSACTIONS"
   ]
  },
  {
   "cell_type": "markdown",
   "id": "14c676f4",
   "metadata": {},
   "source": [
    "Summary\n",
    "\n",
    "1. Joining all the tables with required columns and excluding the Customers without Card because we  need transactions for further steps.\n",
    "2. Used dataprep for EDA and understanding the data information. EDA was challenging because of class imbalance of target.\n",
    "3. After analysis on the data set selected Categorical columns for preprocessing, created new columns with encoding, changed the required dataType and at last merged the processed columns to the original dataFrame.\n",
    "4. On observing the data information and comaparison with 'Fraud_Flag' few columns were dropped.\n",
    "5. The data was ready with all required Independent Columns then target & features were selected.\n",
    "6. As the data column's values are of different scale then Scaling was performed on the it.\n",
    "7. The train_test split was completed on the scaled data for training on the LogisticRegression with imbalanced data and result was biased to label '0'.\n",
    "8. For balancing the data SMOTE(Synthetic Minority Oversampling Technique) technique is used , after using this the class was balanced and then train_test split was performed on new synthetic data.\n",
    "9. For finding the best model LogisticRegression, XGBoostClassifier, RandomForest, DecisionTreeClassifier and SVC were used. These model were tuned with best parameters with the help of GridSearchCV .\n",
    "10. Among all the models SVC performed better and with reduced overfitting results.\n",
    "\n"
   ]
  },
  {
   "cell_type": "code",
   "execution_count": 506,
   "id": "b09d9d5c",
   "metadata": {},
   "outputs": [],
   "source": [
    "# Importing the required Libraries and handling the warnings\n",
    "\n",
    "import pandas as pd\n",
    "import numpy as np\n",
    "import seaborn as sns\n",
    "import matplotlib.pyplot as plt\n",
    "\n",
    "import warnings\n",
    "warnings.filterwarnings('ignore')"
   ]
  },
  {
   "cell_type": "code",
   "execution_count": 507,
   "id": "a24b6469",
   "metadata": {},
   "outputs": [],
   "source": [
    "# Reading csv files and created DataFrames for each file\n",
    "\n",
    "CardBase = pd.read_csv('CardBase.csv')\n",
    "FraudBase = pd.read_csv('FraudBase.csv')\n",
    "CustomerBase = pd.read_csv('CustomerBase.csv')\n",
    "TransactionBase = pd.read_csv('TransactionBase.csv')\n"
   ]
  },
  {
   "cell_type": "code",
   "execution_count": 508,
   "id": "09c215f6",
   "metadata": {},
   "outputs": [
    {
     "name": "stdout",
     "output_type": "stream",
     "text": [
      "Index(['Card_Number', 'Card_Family', 'Credit_Limit', 'Cust_ID'], dtype='object')\n",
      "Index(['Cust_ID', 'Age', 'Customer_Segment', 'Customer_Vintage_Group'], dtype='object')\n",
      "Index(['Transaction_ID', 'Fraud_Flag'], dtype='object')\n",
      "Index(['Transaction_ID', 'Transaction_Date', 'Credit_Card_ID',\n",
      "       'Transaction_Value', 'Transaction_Segment'],\n",
      "      dtype='object')\n"
     ]
    }
   ],
   "source": [
    "# Checking the column's name for joining them together\n",
    "\n",
    "for colName in [CardBase,CustomerBase,FraudBase,TransactionBase]:\n",
    "    print(colName.columns)\n",
    "    "
   ]
  },
  {
   "cell_type": "code",
   "execution_count": 509,
   "id": "3c1b85a7",
   "metadata": {},
   "outputs": [
    {
     "data": {
      "text/plain": [
       "(500, 7)"
      ]
     },
     "execution_count": 509,
     "metadata": {},
     "output_type": "execute_result"
    }
   ],
   "source": [
    "# Joined CardBase and CustomerBase with inner join. This filters the Customer with Card data.\n",
    "\n",
    "cardCust = pd.merge(CardBase, CustomerBase, on='Cust_ID', how='inner')\n",
    "cardCust.shape"
   ]
  },
  {
   "cell_type": "code",
   "execution_count": 510,
   "id": "33764089",
   "metadata": {},
   "outputs": [],
   "source": [
    "# Joined the TransactionBase with Fraudlent Transactions.\n",
    "\n",
    "FraudTransc = pd.merge(FraudBase, TransactionBase, on='Transaction_ID', how = 'outer')"
   ]
  },
  {
   "cell_type": "code",
   "execution_count": 511,
   "id": "fcbc003d",
   "metadata": {},
   "outputs": [],
   "source": [
    "# Joined the two grouped tables for the final DataFrame\n",
    "\n",
    "df = pd.merge(cardCust,FraudTransc, left_on=['Card_Number'],right_on=['Credit_Card_ID'], how='outer')"
   ]
  },
  {
   "cell_type": "code",
   "execution_count": 512,
   "id": "963a9c91",
   "metadata": {},
   "outputs": [
    {
     "data": {
      "text/html": [
       "<div>\n",
       "<style scoped>\n",
       "    .dataframe tbody tr th:only-of-type {\n",
       "        vertical-align: middle;\n",
       "    }\n",
       "\n",
       "    .dataframe tbody tr th {\n",
       "        vertical-align: top;\n",
       "    }\n",
       "\n",
       "    .dataframe thead th {\n",
       "        text-align: right;\n",
       "    }\n",
       "</style>\n",
       "<table border=\"1\" class=\"dataframe\">\n",
       "  <thead>\n",
       "    <tr style=\"text-align: right;\">\n",
       "      <th></th>\n",
       "      <th>Card_Number</th>\n",
       "      <th>Card_Family</th>\n",
       "      <th>Credit_Limit</th>\n",
       "      <th>Cust_ID</th>\n",
       "      <th>Age</th>\n",
       "      <th>Customer_Segment</th>\n",
       "      <th>Customer_Vintage_Group</th>\n",
       "      <th>Transaction_ID</th>\n",
       "      <th>Fraud_Flag</th>\n",
       "      <th>Transaction_Date</th>\n",
       "      <th>Credit_Card_ID</th>\n",
       "      <th>Transaction_Value</th>\n",
       "      <th>Transaction_Segment</th>\n",
       "    </tr>\n",
       "  </thead>\n",
       "  <tbody>\n",
       "    <tr>\n",
       "      <th>0</th>\n",
       "      <td>8638-5407-3631-8196</td>\n",
       "      <td>Premium</td>\n",
       "      <td>530000</td>\n",
       "      <td>CC67088</td>\n",
       "      <td>27</td>\n",
       "      <td>Diamond</td>\n",
       "      <td>VG1</td>\n",
       "      <td>CTID85973577</td>\n",
       "      <td>NaN</td>\n",
       "      <td>13-Feb-16</td>\n",
       "      <td>8638-5407-3631-8196</td>\n",
       "      <td>31592</td>\n",
       "      <td>SEG21</td>\n",
       "    </tr>\n",
       "    <tr>\n",
       "      <th>1</th>\n",
       "      <td>8638-5407-3631-8196</td>\n",
       "      <td>Premium</td>\n",
       "      <td>530000</td>\n",
       "      <td>CC67088</td>\n",
       "      <td>27</td>\n",
       "      <td>Diamond</td>\n",
       "      <td>VG1</td>\n",
       "      <td>CTID13215166</td>\n",
       "      <td>NaN</td>\n",
       "      <td>30-Oct-16</td>\n",
       "      <td>8638-5407-3631-8196</td>\n",
       "      <td>5894</td>\n",
       "      <td>SEG12</td>\n",
       "    </tr>\n",
       "    <tr>\n",
       "      <th>2</th>\n",
       "      <td>8638-5407-3631-8196</td>\n",
       "      <td>Premium</td>\n",
       "      <td>530000</td>\n",
       "      <td>CC67088</td>\n",
       "      <td>27</td>\n",
       "      <td>Diamond</td>\n",
       "      <td>VG1</td>\n",
       "      <td>CTID41016745</td>\n",
       "      <td>NaN</td>\n",
       "      <td>9-May-16</td>\n",
       "      <td>8638-5407-3631-8196</td>\n",
       "      <td>20925</td>\n",
       "      <td>SEG11</td>\n",
       "    </tr>\n",
       "    <tr>\n",
       "      <th>3</th>\n",
       "      <td>8638-5407-3631-8196</td>\n",
       "      <td>Premium</td>\n",
       "      <td>530000</td>\n",
       "      <td>CC67088</td>\n",
       "      <td>27</td>\n",
       "      <td>Diamond</td>\n",
       "      <td>VG1</td>\n",
       "      <td>CTID82512584</td>\n",
       "      <td>NaN</td>\n",
       "      <td>31-Aug-16</td>\n",
       "      <td>8638-5407-3631-8196</td>\n",
       "      <td>36556</td>\n",
       "      <td>SEG11</td>\n",
       "    </tr>\n",
       "    <tr>\n",
       "      <th>4</th>\n",
       "      <td>8638-5407-3631-8196</td>\n",
       "      <td>Premium</td>\n",
       "      <td>530000</td>\n",
       "      <td>CC67088</td>\n",
       "      <td>27</td>\n",
       "      <td>Diamond</td>\n",
       "      <td>VG1</td>\n",
       "      <td>CTID97222954</td>\n",
       "      <td>NaN</td>\n",
       "      <td>25-Nov-16</td>\n",
       "      <td>8638-5407-3631-8196</td>\n",
       "      <td>36715</td>\n",
       "      <td>SEG18</td>\n",
       "    </tr>\n",
       "  </tbody>\n",
       "</table>\n",
       "</div>"
      ],
      "text/plain": [
       "           Card_Number Card_Family  Credit_Limit  Cust_ID  Age  \\\n",
       "0  8638-5407-3631-8196     Premium        530000  CC67088   27   \n",
       "1  8638-5407-3631-8196     Premium        530000  CC67088   27   \n",
       "2  8638-5407-3631-8196     Premium        530000  CC67088   27   \n",
       "3  8638-5407-3631-8196     Premium        530000  CC67088   27   \n",
       "4  8638-5407-3631-8196     Premium        530000  CC67088   27   \n",
       "\n",
       "  Customer_Segment Customer_Vintage_Group Transaction_ID  Fraud_Flag  \\\n",
       "0          Diamond                    VG1   CTID85973577         NaN   \n",
       "1          Diamond                    VG1   CTID13215166         NaN   \n",
       "2          Diamond                    VG1   CTID41016745         NaN   \n",
       "3          Diamond                    VG1   CTID82512584         NaN   \n",
       "4          Diamond                    VG1   CTID97222954         NaN   \n",
       "\n",
       "  Transaction_Date       Credit_Card_ID  Transaction_Value Transaction_Segment  \n",
       "0        13-Feb-16  8638-5407-3631-8196              31592               SEG21  \n",
       "1        30-Oct-16  8638-5407-3631-8196               5894               SEG12  \n",
       "2         9-May-16  8638-5407-3631-8196              20925               SEG11  \n",
       "3        31-Aug-16  8638-5407-3631-8196              36556               SEG11  \n",
       "4        25-Nov-16  8638-5407-3631-8196              36715               SEG18  "
      ]
     },
     "execution_count": 512,
     "metadata": {},
     "output_type": "execute_result"
    }
   ],
   "source": [
    "df.head()"
   ]
  },
  {
   "cell_type": "markdown",
   "id": "b2e80c6d",
   "metadata": {},
   "source": [
    "Data Information & Understanding using \"dataprep\" libraries"
   ]
  },
  {
   "cell_type": "code",
   "execution_count": 513,
   "id": "0460a1f2",
   "metadata": {},
   "outputs": [],
   "source": [
    "from dataprep.eda import create_report\n",
    "\n",
    "#create_report(df)"
   ]
  },
  {
   "cell_type": "markdown",
   "id": "7fd04699",
   "metadata": {},
   "source": [
    "Checking the Fraud_Flag count"
   ]
  },
  {
   "cell_type": "code",
   "execution_count": 514,
   "id": "9bc14988",
   "metadata": {},
   "outputs": [
    {
     "data": {
      "text/plain": [
       "1.0    109\n",
       "Name: Fraud_Flag, dtype: int64"
      ]
     },
     "execution_count": 514,
     "metadata": {},
     "output_type": "execute_result"
    }
   ],
   "source": [
    "df['Fraud_Flag'].value_counts()"
   ]
  },
  {
   "cell_type": "code",
   "execution_count": 515,
   "id": "b4889831",
   "metadata": {},
   "outputs": [],
   "source": [
    "df['Fraud_Flag'].replace(np.NaN, 0, inplace=True)\n",
    "df['Fraud_Flag'] = df['Fraud_Flag'].astype(np.int64)"
   ]
  },
  {
   "cell_type": "code",
   "execution_count": 516,
   "id": "0d85eb5b",
   "metadata": {},
   "outputs": [
    {
     "data": {
      "text/plain": [
       "0    9891\n",
       "1     109\n",
       "Name: Fraud_Flag, dtype: int64"
      ]
     },
     "execution_count": 516,
     "metadata": {},
     "output_type": "execute_result"
    }
   ],
   "source": [
    "df['Fraud_Flag'].value_counts()"
   ]
  },
  {
   "cell_type": "code",
   "execution_count": 517,
   "id": "b6b646ac",
   "metadata": {},
   "outputs": [
    {
     "data": {
      "text/plain": [
       "Card_Number               0\n",
       "Card_Family               0\n",
       "Credit_Limit              0\n",
       "Cust_ID                   0\n",
       "Age                       0\n",
       "Customer_Segment          0\n",
       "Customer_Vintage_Group    0\n",
       "Transaction_ID            0\n",
       "Fraud_Flag                0\n",
       "Transaction_Date          0\n",
       "Credit_Card_ID            0\n",
       "Transaction_Value         0\n",
       "Transaction_Segment       0\n",
       "dtype: int64"
      ]
     },
     "execution_count": 517,
     "metadata": {},
     "output_type": "execute_result"
    }
   ],
   "source": [
    "# Checking the Null Values\n",
    "\n",
    "df.isnull().sum()"
   ]
  },
  {
   "cell_type": "code",
   "execution_count": 518,
   "id": "02fe36f7",
   "metadata": {},
   "outputs": [
    {
     "data": {
      "text/plain": [
       "Card_Number               object\n",
       "Card_Family               object\n",
       "Credit_Limit               int64\n",
       "Cust_ID                   object\n",
       "Age                        int64\n",
       "Customer_Segment          object\n",
       "Customer_Vintage_Group    object\n",
       "Transaction_ID            object\n",
       "Fraud_Flag                 int64\n",
       "Transaction_Date          object\n",
       "Credit_Card_ID            object\n",
       "Transaction_Value          int64\n",
       "Transaction_Segment       object\n",
       "dtype: object"
      ]
     },
     "execution_count": 518,
     "metadata": {},
     "output_type": "execute_result"
    }
   ],
   "source": [
    "# Checking the DataType of the Column\n",
    "\n",
    "df.dtypes"
   ]
  },
  {
   "cell_type": "code",
   "execution_count": 519,
   "id": "e27e89db",
   "metadata": {},
   "outputs": [
    {
     "data": {
      "text/html": [
       "<div>\n",
       "<style scoped>\n",
       "    .dataframe tbody tr th:only-of-type {\n",
       "        vertical-align: middle;\n",
       "    }\n",
       "\n",
       "    .dataframe tbody tr th {\n",
       "        vertical-align: top;\n",
       "    }\n",
       "\n",
       "    .dataframe thead th {\n",
       "        text-align: right;\n",
       "    }\n",
       "</style>\n",
       "<table border=\"1\" class=\"dataframe\">\n",
       "  <thead>\n",
       "    <tr style=\"text-align: right;\">\n",
       "      <th></th>\n",
       "      <th>Credit_Limit</th>\n",
       "      <th>Age</th>\n",
       "      <th>Fraud_Flag</th>\n",
       "      <th>Transaction_Value</th>\n",
       "    </tr>\n",
       "  </thead>\n",
       "  <tbody>\n",
       "    <tr>\n",
       "      <th>Credit_Limit</th>\n",
       "      <td>1.000000</td>\n",
       "      <td>-0.012878</td>\n",
       "      <td>-0.005704</td>\n",
       "      <td>-0.006661</td>\n",
       "    </tr>\n",
       "    <tr>\n",
       "      <th>Age</th>\n",
       "      <td>-0.012878</td>\n",
       "      <td>1.000000</td>\n",
       "      <td>-0.006525</td>\n",
       "      <td>-0.001739</td>\n",
       "    </tr>\n",
       "    <tr>\n",
       "      <th>Fraud_Flag</th>\n",
       "      <td>-0.005704</td>\n",
       "      <td>-0.006525</td>\n",
       "      <td>1.000000</td>\n",
       "      <td>0.014976</td>\n",
       "    </tr>\n",
       "    <tr>\n",
       "      <th>Transaction_Value</th>\n",
       "      <td>-0.006661</td>\n",
       "      <td>-0.001739</td>\n",
       "      <td>0.014976</td>\n",
       "      <td>1.000000</td>\n",
       "    </tr>\n",
       "  </tbody>\n",
       "</table>\n",
       "</div>"
      ],
      "text/plain": [
       "                   Credit_Limit       Age  Fraud_Flag  Transaction_Value\n",
       "Credit_Limit           1.000000 -0.012878   -0.005704          -0.006661\n",
       "Age                   -0.012878  1.000000   -0.006525          -0.001739\n",
       "Fraud_Flag            -0.005704 -0.006525    1.000000           0.014976\n",
       "Transaction_Value     -0.006661 -0.001739    0.014976           1.000000"
      ]
     },
     "execution_count": 519,
     "metadata": {},
     "output_type": "execute_result"
    }
   ],
   "source": [
    "# Checking the Correlation\n",
    "\n",
    "df.corr()"
   ]
  },
  {
   "cell_type": "markdown",
   "id": "5a613c2d",
   "metadata": {},
   "source": [
    "Observation of Categorical Values and processing "
   ]
  },
  {
   "cell_type": "code",
   "execution_count": 520,
   "id": "d6893c9e",
   "metadata": {},
   "outputs": [
    {
     "data": {
      "text/plain": [
       "array(['Diamond', 'Gold', 'Platinum'], dtype=object)"
      ]
     },
     "execution_count": 520,
     "metadata": {},
     "output_type": "execute_result"
    }
   ],
   "source": [
    "df['Customer_Segment'].unique()"
   ]
  },
  {
   "cell_type": "code",
   "execution_count": 521,
   "id": "da957dfd",
   "metadata": {},
   "outputs": [
    {
     "data": {
      "text/plain": [
       "array(['Premium', 'Gold', 'Platinum'], dtype=object)"
      ]
     },
     "execution_count": 521,
     "metadata": {},
     "output_type": "execute_result"
    }
   ],
   "source": [
    "df['Card_Family'].unique()"
   ]
  },
  {
   "cell_type": "code",
   "execution_count": 522,
   "id": "2c01819b",
   "metadata": {},
   "outputs": [
    {
     "data": {
      "text/plain": [
       "array(['VG1', 'VG3', 'VG2'], dtype=object)"
      ]
     },
     "execution_count": 522,
     "metadata": {},
     "output_type": "execute_result"
    }
   ],
   "source": [
    "df['Customer_Vintage_Group'].unique()"
   ]
  },
  {
   "cell_type": "code",
   "execution_count": 523,
   "id": "f4b46a76",
   "metadata": {},
   "outputs": [
    {
     "data": {
      "text/plain": [
       "array(['SEG21', 'SEG12', 'SEG11', 'SEG18', 'SEG15', 'SEG23', 'SEG17',\n",
       "       'SEG19', 'SEG16', 'SEG24', 'SEG14', 'SEG22', 'SEG25', 'SEG20',\n",
       "       'SEG13'], dtype=object)"
      ]
     },
     "execution_count": 523,
     "metadata": {},
     "output_type": "execute_result"
    }
   ],
   "source": [
    "df['Transaction_Segment'].unique()\n"
   ]
  },
  {
   "cell_type": "code",
   "execution_count": 524,
   "id": "9c932802",
   "metadata": {},
   "outputs": [],
   "source": [
    "# adding the month, date and dayOfWeek columns to the dataset\n",
    "\n",
    "df['Transaction_Month'] = pd.DatetimeIndex(df['Transaction_Date']).month\n",
    "df['Transaction_Day'] = pd.DatetimeIndex(df['Transaction_Date']).day\n",
    "df['Transaction_DayofWeek'] = pd.DatetimeIndex(df['Transaction_Date']).dayofweek\n"
   ]
  },
  {
   "cell_type": "code",
   "execution_count": 525,
   "id": "243916df",
   "metadata": {},
   "outputs": [],
   "source": [
    "# Transaction_Date Conversion to DateTime\n",
    "\n",
    "df['Transaction_Date'] = pd.to_datetime(df['Transaction_Date'], format='%d-%b-%y')"
   ]
  },
  {
   "cell_type": "markdown",
   "id": "b30515e4",
   "metadata": {},
   "source": [
    "Binning of the required Columns"
   ]
  },
  {
   "cell_type": "code",
   "execution_count": 526,
   "id": "3e8d13fa",
   "metadata": {},
   "outputs": [
    {
     "data": {
      "text/plain": [
       "(899.0, 2.0)"
      ]
     },
     "execution_count": 526,
     "metadata": {},
     "output_type": "execute_result"
    }
   ],
   "source": [
    "(df['Credit_Limit']/1000).unique().max(),(df['Credit_Limit']/1000).unique().min()"
   ]
  },
  {
   "cell_type": "code",
   "execution_count": 527,
   "id": "d44cf59b",
   "metadata": {},
   "outputs": [],
   "source": [
    "df['Credit_Limit'] = pd.cut(df['Credit_Limit']/1000, \n",
    "                           bins = [1,200,400,600,800,1000], labels=['1_200','200_400','400_600','600_800','800_1000'] )"
   ]
  },
  {
   "cell_type": "code",
   "execution_count": 528,
   "id": "e1f01ef7",
   "metadata": {},
   "outputs": [
    {
     "data": {
      "text/plain": [
       "<matplotlib.axes._subplots.AxesSubplot at 0x17ebf52bb48>"
      ]
     },
     "execution_count": 528,
     "metadata": {},
     "output_type": "execute_result"
    },
    {
     "data": {
      "image/png": "[encoded data removed]",
      "text/plain": [
       "<Figure size 432x288 with 1 Axes>"
      ]
     },
     "metadata": {
      "needs_background": "light"
     },
     "output_type": "display_data"
    }
   ],
   "source": [
    "# Ploting for Distribution of data \n",
    "\n",
    "sns.distplot(df['Transaction_Value'], hist=True)"
   ]
  },
  {
   "cell_type": "code",
   "execution_count": 529,
   "id": "ea71904a",
   "metadata": {},
   "outputs": [
    {
     "data": {
      "text/plain": [
       "(49995, 0.103)"
      ]
     },
     "execution_count": 529,
     "metadata": {},
     "output_type": "execute_result"
    }
   ],
   "source": [
    "(df['Transaction_Value']).unique().max(),(df['Transaction_Value']/1000).unique().min()"
   ]
  },
  {
   "cell_type": "code",
   "execution_count": 530,
   "id": "28d73a51",
   "metadata": {},
   "outputs": [],
   "source": [
    "df['Transaction_Value'] = pd.cut(df['Transaction_Value'], \n",
    "                           bins = [1,10000,20000,30000,40000,50000,60000], labels=['0_10','10_20','20_30','30_40','40_50','50-60'] )"
   ]
  },
  {
   "cell_type": "code",
   "execution_count": 531,
   "id": "6fda28ca",
   "metadata": {},
   "outputs": [],
   "source": [
    "# Using One-Hot Encoding for all Categorical Columns \n",
    "\n",
    "cat_df = df[['Customer_Segment','Card_Family','Transaction_Segment','Credit_Limit','Transaction_Value']]"
   ]
  },
  {
   "cell_type": "code",
   "execution_count": 532,
   "id": "ac2be795",
   "metadata": {},
   "outputs": [],
   "source": [
    "for col in cat_df.columns:\n",
    "    cat_df = pd.get_dummies(cat_df, columns=[col], prefix = str(col))\n",
    "    "
   ]
  },
  {
   "cell_type": "code",
   "execution_count": 533,
   "id": "fabf5840",
   "metadata": {},
   "outputs": [
    {
     "data": {
      "text/plain": [
       "(10000, 32)"
      ]
     },
     "execution_count": 533,
     "metadata": {},
     "output_type": "execute_result"
    }
   ],
   "source": [
    "cat_df.shape"
   ]
  },
  {
   "cell_type": "code",
   "execution_count": 534,
   "id": "adf3bc30",
   "metadata": {},
   "outputs": [],
   "source": [
    "# combining the categorical dataframes with original DataFrame to get the final dataset\n",
    "\n",
    "df=pd.concat([df,cat_df], axis=1)"
   ]
  },
  {
   "cell_type": "code",
   "execution_count": 535,
   "id": "2c128294",
   "metadata": {},
   "outputs": [
    {
     "data": {
      "text/plain": [
       "(10000, 48)"
      ]
     },
     "execution_count": 535,
     "metadata": {},
     "output_type": "execute_result"
    }
   ],
   "source": [
    "df.shape"
   ]
  },
  {
   "cell_type": "code",
   "execution_count": null,
   "id": "51a32a7c",
   "metadata": {},
   "outputs": [],
   "source": []
  },
  {
   "cell_type": "code",
   "execution_count": 537,
   "id": "9c986af7",
   "metadata": {},
   "outputs": [
    {
     "data": {
      "text/plain": [
       "Card_Number                          object\n",
       "Card_Family                          object\n",
       "Credit_Limit                       category\n",
       "Cust_ID                              object\n",
       "Age                                   int64\n",
       "Customer_Segment                     object\n",
       "Customer_Vintage_Group               object\n",
       "Transaction_ID                       object\n",
       "Fraud_Flag                            int64\n",
       "Transaction_Date             datetime64[ns]\n",
       "Credit_Card_ID                       object\n",
       "Transaction_Value                  category\n",
       "Transaction_Segment                  object\n",
       "Transaction_Month                     int64\n",
       "Transaction_Day                       int64\n",
       "Transaction_DayofWeek                 int64\n",
       "Customer_Segment_Diamond              uint8\n",
       "Customer_Segment_Gold                 uint8\n",
       "Customer_Segment_Platinum             uint8\n",
       "Card_Family_Gold                      uint8\n",
       "Card_Family_Platinum                  uint8\n",
       "Card_Family_Premium                   uint8\n",
       "Transaction_Segment_SEG11             uint8\n",
       "Transaction_Segment_SEG12             uint8\n",
       "Transaction_Segment_SEG13             uint8\n",
       "Transaction_Segment_SEG14             uint8\n",
       "Transaction_Segment_SEG15             uint8\n",
       "Transaction_Segment_SEG16             uint8\n",
       "Transaction_Segment_SEG17             uint8\n",
       "Transaction_Segment_SEG18             uint8\n",
       "Transaction_Segment_SEG19             uint8\n",
       "Transaction_Segment_SEG20             uint8\n",
       "Transaction_Segment_SEG21             uint8\n",
       "Transaction_Segment_SEG22             uint8\n",
       "Transaction_Segment_SEG23             uint8\n",
       "Transaction_Segment_SEG24             uint8\n",
       "Transaction_Segment_SEG25             uint8\n",
       "Credit_Limit_1_200                    uint8\n",
       "Credit_Limit_200_400                  uint8\n",
       "Credit_Limit_400_600                  uint8\n",
       "Credit_Limit_600_800                  uint8\n",
       "Credit_Limit_800_1000                 uint8\n",
       "Transaction_Value_0_10                uint8\n",
       "Transaction_Value_10_20               uint8\n",
       "Transaction_Value_20_30               uint8\n",
       "Transaction_Value_30_40               uint8\n",
       "Transaction_Value_40_50               uint8\n",
       "Transaction_Value_50-60               uint8\n",
       "dtype: object"
      ]
     },
     "execution_count": 537,
     "metadata": {},
     "output_type": "execute_result"
    }
   ],
   "source": [
    "# Checking the DataTypes\n",
    "\n",
    "df.dtypes"
   ]
  },
  {
   "cell_type": "code",
   "execution_count": 538,
   "id": "f2d51821",
   "metadata": {},
   "outputs": [],
   "source": [
    "# After Evaluation of each column with respect to Fraud_Flag below columns are dropped.\n",
    "\n",
    "df.drop(columns =['Transaction_Value','Credit_Limit','Card_Number','Cust_ID','Transaction_ID','Customer_Segment','Card_Family','Customer_Vintage_Group','Transaction_Segment','Transaction_Date','Credit_Card_ID'],\n",
    "       axis=1, inplace=True)\n",
    "  "
   ]
  },
  {
   "cell_type": "code",
   "execution_count": 539,
   "id": "55dc47cb",
   "metadata": {},
   "outputs": [
    {
     "data": {
      "text/plain": [
       "(10000, 37)"
      ]
     },
     "execution_count": 539,
     "metadata": {},
     "output_type": "execute_result"
    }
   ],
   "source": [
    "df.shape"
   ]
  },
  {
   "cell_type": "code",
   "execution_count": 540,
   "id": "16c54dbb",
   "metadata": {},
   "outputs": [
    {
     "data": {
      "text/plain": [
       "Index(['Age', 'Fraud_Flag', 'Transaction_Month', 'Transaction_Day',\n",
       "       'Transaction_DayofWeek', 'Customer_Segment_Diamond',\n",
       "       'Customer_Segment_Gold', 'Customer_Segment_Platinum',\n",
       "       'Card_Family_Gold', 'Card_Family_Platinum', 'Card_Family_Premium',\n",
       "       'Transaction_Segment_SEG11', 'Transaction_Segment_SEG12',\n",
       "       'Transaction_Segment_SEG13', 'Transaction_Segment_SEG14',\n",
       "       'Transaction_Segment_SEG15', 'Transaction_Segment_SEG16',\n",
       "       'Transaction_Segment_SEG17', 'Transaction_Segment_SEG18',\n",
       "       'Transaction_Segment_SEG19', 'Transaction_Segment_SEG20',\n",
       "       'Transaction_Segment_SEG21', 'Transaction_Segment_SEG22',\n",
       "       'Transaction_Segment_SEG23', 'Transaction_Segment_SEG24',\n",
       "       'Transaction_Segment_SEG25', 'Credit_Limit_1_200',\n",
       "       'Credit_Limit_200_400', 'Credit_Limit_400_600', 'Credit_Limit_600_800',\n",
       "       'Credit_Limit_800_1000', 'Transaction_Value_0_10',\n",
       "       'Transaction_Value_10_20', 'Transaction_Value_20_30',\n",
       "       'Transaction_Value_30_40', 'Transaction_Value_40_50',\n",
       "       'Transaction_Value_50-60'],\n",
       "      dtype='object')"
      ]
     },
     "execution_count": 540,
     "metadata": {},
     "output_type": "execute_result"
    }
   ],
   "source": [
    "df.columns"
   ]
  },
  {
   "cell_type": "code",
   "execution_count": 541,
   "id": "2fbd29cb",
   "metadata": {},
   "outputs": [
    {
     "data": {
      "text/plain": [
       "<matplotlib.axes._subplots.AxesSubplot at 0x17ec3ae19c8>"
      ]
     },
     "execution_count": 541,
     "metadata": {},
     "output_type": "execute_result"
    },
    {
     "data": {
      "image/png": "[encoded data removed]",
      "text/plain": [
       "<Figure size 432x288 with 1 Axes>"
      ]
     },
     "metadata": {
      "needs_background": "light"
     },
     "output_type": "display_data"
    }
   ],
   "source": [
    "sns.distplot(df['Transaction_DayofWeek'], hist=True)"
   ]
  },
  {
   "cell_type": "code",
   "execution_count": 542,
   "id": "e54425c4",
   "metadata": {},
   "outputs": [
    {
     "data": {
      "text/plain": [
       "Age                          int64\n",
       "Fraud_Flag                   int64\n",
       "Transaction_Month            int64\n",
       "Transaction_Day              int64\n",
       "Transaction_DayofWeek        int64\n",
       "Customer_Segment_Diamond     int64\n",
       "Customer_Segment_Gold        int64\n",
       "Customer_Segment_Platinum    int64\n",
       "Card_Family_Gold             int64\n",
       "Card_Family_Platinum         int64\n",
       "Card_Family_Premium          int64\n",
       "Transaction_Segment_SEG11    int64\n",
       "Transaction_Segment_SEG12    int64\n",
       "Transaction_Segment_SEG13    int64\n",
       "Transaction_Segment_SEG14    int64\n",
       "Transaction_Segment_SEG15    int64\n",
       "Transaction_Segment_SEG16    int64\n",
       "Transaction_Segment_SEG17    int64\n",
       "Transaction_Segment_SEG18    int64\n",
       "Transaction_Segment_SEG19    int64\n",
       "Transaction_Segment_SEG20    int64\n",
       "Transaction_Segment_SEG21    int64\n",
       "Transaction_Segment_SEG22    int64\n",
       "Transaction_Segment_SEG23    int64\n",
       "Transaction_Segment_SEG24    int64\n",
       "Transaction_Segment_SEG25    int64\n",
       "Credit_Limit_1_200           int64\n",
       "Credit_Limit_200_400         int64\n",
       "Credit_Limit_400_600         int64\n",
       "Credit_Limit_600_800         int64\n",
       "Credit_Limit_800_1000        int64\n",
       "Transaction_Value_0_10       int64\n",
       "Transaction_Value_10_20      int64\n",
       "Transaction_Value_20_30      int64\n",
       "Transaction_Value_30_40      int64\n",
       "Transaction_Value_40_50      int64\n",
       "Transaction_Value_50-60      int64\n",
       "dtype: object"
      ]
     },
     "execution_count": 542,
     "metadata": {},
     "output_type": "execute_result"
    }
   ],
   "source": [
    "# Changing the DataType to 'int64'\n",
    "\n",
    "for column in df.columns:\n",
    "    if df[column].dtype == 'uint8':\n",
    "        df[column] = df[column].astype(np.int64)\n",
    "        \n",
    "df.dtypes"
   ]
  },
  {
   "cell_type": "code",
   "execution_count": null,
   "id": "d17a19fa",
   "metadata": {},
   "outputs": [],
   "source": []
  },
  {
   "cell_type": "code",
   "execution_count": 543,
   "id": "81568557",
   "metadata": {},
   "outputs": [],
   "source": [
    "#Separating the feature and the Label columns \n",
    "\n",
    "X=df.drop(labels='Fraud_Flag', axis=1)\n",
    "y= df['Fraud_Flag']"
   ]
  },
  {
   "cell_type": "code",
   "execution_count": 573,
   "id": "11e4cb37",
   "metadata": {},
   "outputs": [],
   "source": [
    "# Importing Libaries for All Model selection, training, tuning and Testing\n",
    "\n",
    "from sklearn.preprocessing import StandardScaler\n",
    "from sklearn.model_selection import train_test_split\n",
    "from sklearn.linear_model import LogisticRegression\n",
    "from sklearn.preprocessing import StandardScaler\n",
    "from sklearn.metrics import confusion_matrix, classification_report,accuracy_score\n",
    "from imblearn.over_sampling import SMOTE\n",
    "from xgboost import XGBClassifier\n",
    "from sklearn.model_selection import GridSearchCV\n",
    "from sklearn.tree import DecisionTreeClassifier, export_graphviz\n",
    "from sklearn.ensemble import RandomForestClassifier\n",
    "from sklearn import tree\n",
    "from sklearn.svm import SVC"
   ]
  },
  {
   "cell_type": "code",
   "execution_count": 546,
   "id": "bf15daca",
   "metadata": {},
   "outputs": [],
   "source": [
    "# As the datapoints differ a lot in magnitude, we'll scale them\n",
    "\n",
    "scaler=StandardScaler()\n",
    "scaled_data=scaler.fit_transform(X)"
   ]
  },
  {
   "cell_type": "code",
   "execution_count": 547,
   "id": "40dc331e",
   "metadata": {},
   "outputs": [],
   "source": [
    "# Spliting the Data for Train and Test\n",
    "\n",
    "X_train,X_test,y_train,y_test = train_test_split(scaled_data,y,test_size=0.3,random_state=42)"
   ]
  },
  {
   "cell_type": "markdown",
   "id": "7f8c7658",
   "metadata": {},
   "source": [
    "LOGISTIC Regression"
   ]
  },
  {
   "cell_type": "code",
   "execution_count": 549,
   "id": "cf25cf6a",
   "metadata": {},
   "outputs": [
    {
     "name": "stdout",
     "output_type": "stream",
     "text": [
      "              precision    recall  f1-score   support\n",
      "\n",
      "           0       0.99      1.00      0.99      2968\n",
      "           1       0.00      0.00      0.00        32\n",
      "\n",
      "    accuracy                           0.99      3000\n",
      "   macro avg       0.49      0.50      0.50      3000\n",
      "weighted avg       0.98      0.99      0.98      3000\n",
      "\n"
     ]
    }
   ],
   "source": [
    "\n",
    "# logistic regression object\n",
    "lr = LogisticRegression()\n",
    "  \n",
    "# train the model on train set\n",
    "lr.fit(X_train, y_train.ravel())\n",
    "  \n",
    "predictions = lr.predict(X_test)\n",
    "  \n",
    "# print classification report\n",
    "print(classification_report(y_test, predictions))"
   ]
  },
  {
   "cell_type": "markdown",
   "id": "b0392433",
   "metadata": {},
   "source": [
    "As we can see in the result that for every '1' it's been predicted as '0'.\n",
    "This concludes that our data is imbalanced and needs to be sampled before processing."
   ]
  },
  {
   "cell_type": "markdown",
   "id": "659020c6",
   "metadata": {},
   "source": [
    "Using the below method for upsampling of the Minority Class(i.e. '1')\n",
    "It will create new synthetic data for our dataset"
   ]
  },
  {
   "cell_type": "markdown",
   "id": "027522b8",
   "metadata": {},
   "source": [
    "# SMOTE(Synthetic Minority Oversampling Technique)"
   ]
  },
  {
   "cell_type": "code",
   "execution_count": 551,
   "id": "33280d70",
   "metadata": {},
   "outputs": [
    {
     "name": "stdout",
     "output_type": "stream",
     "text": [
      "Before OverSampling, counts of label '1': 77\n",
      "Before OverSampling, counts of label '0': 6923 \n",
      "\n",
      "After OverSampling, the shape of train_X: (19782, 36)\n",
      "After OverSampling, the shape of train_y: (19782,) \n",
      "\n",
      "After OverSampling, counts of label '1': 9891\n",
      "After OverSampling, counts of label '0': 9891\n"
     ]
    }
   ],
   "source": [
    "# Counts for the data before sampling\n",
    "\n",
    "print(\"Before OverSampling, counts of label '1': {}\".format(sum(y_train == 1)))\n",
    "print(\"Before OverSampling, counts of label '0': {} \\n\".format(sum(y_train == 0)))\n",
    "\n",
    "# Using SMOTE function on Scaled & Test data.\n",
    "\n",
    "sm = SMOTE(random_state = 42)\n",
    "\n",
    "X_train_res, y_train_res = sm.fit_sample(scaled_data, y)\n",
    "\n",
    "#Check the Size after sampling \n",
    "\n",
    "print('After OverSampling, the shape of train_X: {}'.format(X_train_res.shape))\n",
    "print('After OverSampling, the shape of train_y: {} \\n'.format(y_train_res.shape))\n",
    "\n",
    "# Check the Count after Sampling \n",
    "\n",
    "print(\"After OverSampling, counts of label '1': {}\".format(sum(y_train_res == 1)))\n",
    "print(\"After OverSampling, counts of label '0': {}\".format(sum(y_train_res == 0)))\n"
   ]
  },
  {
   "cell_type": "markdown",
   "id": "7051dcf3",
   "metadata": {},
   "source": [
    "Now the count for label '1' is equal to lable '0'. This would solve the imbalanced data issues."
   ]
  },
  {
   "cell_type": "markdown",
   "id": "6b37d2de",
   "metadata": {},
   "source": [
    "## Model Selection"
   ]
  },
  {
   "cell_type": "code",
   "execution_count": null,
   "id": "066a093a",
   "metadata": {},
   "outputs": [],
   "source": []
  },
  {
   "cell_type": "code",
   "execution_count": 552,
   "id": "881cde86",
   "metadata": {},
   "outputs": [],
   "source": [
    "# Spliting the data from the results of Upsampling.\n",
    "\n",
    "X_train,X_test,y_train,y_test = train_test_split(X_train_res,y_train_res,test_size=0.3,random_state=42)"
   ]
  },
  {
   "cell_type": "markdown",
   "id": "018f87d5",
   "metadata": {},
   "source": [
    "1. LogisticRegression"
   ]
  },
  {
   "cell_type": "code",
   "execution_count": 553,
   "id": "d168cb69",
   "metadata": {},
   "outputs": [
    {
     "name": "stdout",
     "output_type": "stream",
     "text": [
      "              precision    recall  f1-score   support\n",
      "\n",
      "           0       0.66      0.61      0.63      2997\n",
      "           1       0.63      0.67      0.65      2938\n",
      "\n",
      "    accuracy                           0.64      5935\n",
      "   macro avg       0.64      0.64      0.64      5935\n",
      "weighted avg       0.64      0.64      0.64      5935\n",
      "\n"
     ]
    }
   ],
   "source": [
    "lr1 = LogisticRegression()\n",
    "lr1.fit(X_train, y_train)\n",
    "predictions = lr1.predict(X_test)\n",
    "\n",
    "# print classification report\n",
    "print(classification_report(y_test, predictions))"
   ]
  },
  {
   "cell_type": "code",
   "execution_count": 554,
   "id": "65874d79",
   "metadata": {},
   "outputs": [
    {
     "data": {
      "text/plain": [
       "array([[1841, 1156],\n",
       "       [ 963, 1975]], dtype=int64)"
      ]
     },
     "execution_count": 554,
     "metadata": {},
     "output_type": "execute_result"
    }
   ],
   "source": [
    "confusion_matrix(y_test,predictions)\n"
   ]
  },
  {
   "cell_type": "markdown",
   "id": "45a6f6f5",
   "metadata": {},
   "source": [
    "Better Results than imbalanced dataset."
   ]
  },
  {
   "cell_type": "markdown",
   "id": "838c562b",
   "metadata": {},
   "source": [
    "2. XGBClassifier"
   ]
  },
  {
   "cell_type": "code",
   "execution_count": 563,
   "id": "78d645bc",
   "metadata": {},
   "outputs": [],
   "source": [
    "# XGBClassifier\n",
    "\n",
    "xgb = XGBClassifier()"
   ]
  },
  {
   "cell_type": "code",
   "execution_count": 556,
   "id": "1314b5ab",
   "metadata": {},
   "outputs": [],
   "source": [
    "y_pred = xgb.fit(X_train, y_train).predict(X_test)"
   ]
  },
  {
   "cell_type": "code",
   "execution_count": 565,
   "id": "b282859b",
   "metadata": {},
   "outputs": [
    {
     "data": {
      "text/plain": [
       "0.995787700084246"
      ]
     },
     "execution_count": 565,
     "metadata": {},
     "output_type": "execute_result"
    }
   ],
   "source": [
    "# Accuracy Score\n",
    "\n",
    "accuracy_score(y_test,y_pred)"
   ]
  },
  {
   "cell_type": "code",
   "execution_count": 558,
   "id": "190015b8",
   "metadata": {},
   "outputs": [],
   "source": [
    "# Entering all the possible values for the Grid Parameterization\n",
    "\n",
    "param_grid = {\n",
    "    \n",
    "    'learning_rate':[1,0.5,0.1,0.01,0.001],\n",
    "    'max_depth': [3,5,10,20],\n",
    "    'n_estimators':[10,50,100,200]\n",
    "}\n",
    "\n",
    "#Creating an object of the Grid Search class\n",
    "\n",
    "grid = GridSearchCV(estimator=XGBClassifier(objective='binary:logistic'), param_grid=param_grid, cv=5,  verbose=3,n_jobs=-1)"
   ]
  },
  {
   "cell_type": "code",
   "execution_count": 559,
   "id": "1d556789",
   "metadata": {},
   "outputs": [],
   "source": [
    "#finding the best parameters\n",
    "\n",
    "grid.fit(X_train, y_train)"
   ]
  },
  {
   "cell_type": "code",
   "execution_count": 561,
   "id": "9a30a446",
   "metadata": {},
   "outputs": [],
   "source": [
    "# Checking the Best Parameters\n",
    "\n",
    "grid.best_params_"
   ]
  },
  {
   "cell_type": "code",
   "execution_count": 457,
   "id": "70380aba",
   "metadata": {},
   "outputs": [
    {
     "data": {
      "text/plain": [
       "XGBClassifier(base_score=0.5, booster='gbtree', colsample_bylevel=1,\n",
       "              colsample_bynode=1, colsample_bytree=1, gamma=0, gpu_id=-1,\n",
       "              importance_type='gain', interaction_constraints='',\n",
       "              learning_rate=0.1, max_delta_step=0, max_depth=10,\n",
       "              min_child_weight=1, missing=nan, monotone_constraints='()',\n",
       "              n_estimators=100, n_jobs=0, num_parallel_tree=1,\n",
       "              objective='binary:logistic', random_state=0, reg_alpha=0,\n",
       "              reg_lambda=1, scale_pos_weight=1, subsample=1,\n",
       "              tree_method='exact', validate_parameters=1, verbosity=None)"
      ]
     },
     "execution_count": 457,
     "metadata": {},
     "output_type": "execute_result"
    }
   ],
   "source": [
    "# Passing the Values of Best Parameters\n",
    "\n",
    "new_model=XGBClassifier(learning_rate= 0.1, max_depth= 10, n_estimators= 100)\n",
    "\n",
    "# Training with New Hyperparameters\n",
    "\n",
    "new_model.fit(X_train, y_train)"
   ]
  },
  {
   "cell_type": "code",
   "execution_count": 458,
   "id": "ce77c23e",
   "metadata": {},
   "outputs": [
    {
     "data": {
      "text/plain": [
       "0.9954507160909857"
      ]
     },
     "execution_count": 458,
     "metadata": {},
     "output_type": "execute_result"
    }
   ],
   "source": [
    "# Checking the Accuracy and Prediction\n",
    "\n",
    "y_pred_new = new_model.predict(X_test)\n",
    "predictions_new = [round(value) for value in y_pred_new]\n",
    "accuracy_new = accuracy_score(y_test,predictions_new)\n",
    "accuracy_new"
   ]
  },
  {
   "cell_type": "markdown",
   "id": "a2905b3b",
   "metadata": {},
   "source": [
    "3. RANDOM FOREST"
   ]
  },
  {
   "cell_type": "code",
   "execution_count": 569,
   "id": "4c1cc5ec",
   "metadata": {},
   "outputs": [],
   "source": [
    "# DecisionTreeClassifier\n",
    "\n",
    "clf2 = DecisionTreeClassifier(criterion = 'entropy', max_depth =24, min_samples_leaf= 1)"
   ]
  },
  {
   "cell_type": "code",
   "execution_count": 570,
   "id": "336ba47c",
   "metadata": {},
   "outputs": [
    {
     "data": {
      "text/plain": [
       "DecisionTreeClassifier(ccp_alpha=0.0, class_weight=None, criterion='entropy',\n",
       "                       max_depth=24, max_features=None, max_leaf_nodes=None,\n",
       "                       min_impurity_decrease=0.0, min_impurity_split=None,\n",
       "                       min_samples_leaf=1, min_samples_split=2,\n",
       "                       min_weight_fraction_leaf=0.0, presort='deprecated',\n",
       "                       random_state=None, splitter='best')"
      ]
     },
     "execution_count": 570,
     "metadata": {},
     "output_type": "execute_result"
    }
   ],
   "source": [
    "# Model Training with Random Values\n",
    "\n",
    "clf2.fit(X_train,y_train)"
   ]
  },
  {
   "cell_type": "code",
   "execution_count": 571,
   "id": "a78c98a1",
   "metadata": {},
   "outputs": [
    {
     "data": {
      "text/plain": [
       "0.9850042122999157"
      ]
     },
     "execution_count": 571,
     "metadata": {},
     "output_type": "execute_result"
    }
   ],
   "source": [
    "# DecisionTreeClassifier Score\n",
    "\n",
    "clf2.score(X_test,y_test)"
   ]
  },
  {
   "cell_type": "code",
   "execution_count": null,
   "id": "5dbab3d1",
   "metadata": {},
   "outputs": [],
   "source": [
    "# RandomForestClassifier\n",
    "\n",
    "rand_clf = RandomForestClassifier(random_state=6)"
   ]
  },
  {
   "cell_type": "code",
   "execution_count": 462,
   "id": "32782ec9",
   "metadata": {},
   "outputs": [
    {
     "data": {
      "text/plain": [
       "RandomForestClassifier(bootstrap=True, ccp_alpha=0.0, class_weight=None,\n",
       "                       criterion='gini', max_depth=None, max_features='auto',\n",
       "                       max_leaf_nodes=None, max_samples=None,\n",
       "                       min_impurity_decrease=0.0, min_impurity_split=None,\n",
       "                       min_samples_leaf=1, min_samples_split=2,\n",
       "                       min_weight_fraction_leaf=0.0, n_estimators=100,\n",
       "                       n_jobs=None, oob_score=False, random_state=6, verbose=0,\n",
       "                       warm_start=False)"
      ]
     },
     "execution_count": 462,
     "metadata": {},
     "output_type": "execute_result"
    }
   ],
   "source": [
    "# Model Training for RandomForestClassifier\n",
    "\n",
    "rand_clf.fit(X_train,y_train)"
   ]
  },
  {
   "cell_type": "code",
   "execution_count": 463,
   "id": "97588b20",
   "metadata": {},
   "outputs": [
    {
     "data": {
      "text/plain": [
       "0.9942712721145746"
      ]
     },
     "execution_count": 463,
     "metadata": {},
     "output_type": "execute_result"
    }
   ],
   "source": [
    "# Score for RandomForestClassifier\n",
    "\n",
    "rand_clf.score(X_test,y_test)"
   ]
  },
  {
   "cell_type": "code",
   "execution_count": 464,
   "id": "fbe6e51a",
   "metadata": {},
   "outputs": [],
   "source": [
    "# Entering all the possible range values for the Grid Parameterization\n",
    "\n",
    "grid_param = {\n",
    "    \"n_estimators\" : [90,100,115,130],\n",
    "    'criterion': ['gini', 'entropy'],\n",
    "    'max_depth' : range(2,20,1),\n",
    "    'min_samples_leaf' : range(1,10,1),\n",
    "    'min_samples_split': range(2,10,1),\n",
    "    'max_features' : ['auto','log2']\n",
    "}"
   ]
  },
  {
   "cell_type": "code",
   "execution_count": 465,
   "id": "a0b34238",
   "metadata": {},
   "outputs": [],
   "source": [
    "grid_search = GridSearchCV(estimator=rand_clf,param_grid=grid_param,cv=5,n_jobs =-1,verbose = 3)"
   ]
  },
  {
   "cell_type": "code",
   "execution_count": 572,
   "id": "c9108d74",
   "metadata": {},
   "outputs": [],
   "source": [
    "grid_search.fit(X_train,y_train)"
   ]
  },
  {
   "cell_type": "code",
   "execution_count": 466,
   "id": "5ae54b13",
   "metadata": {},
   "outputs": [],
   "source": [
    "# HyperParameter Tuning of the RandomForestClassifier\n",
    "\n",
    "rand_clf = RandomForestClassifier(criterion= 'entropy',\n",
    " max_depth = 12,\n",
    " max_features = 'log2',\n",
    " min_samples_leaf = 1,\n",
    " min_samples_split= 5,\n",
    " n_estimators = 90,random_state=6)"
   ]
  },
  {
   "cell_type": "code",
   "execution_count": 467,
   "id": "6e94eebc",
   "metadata": {},
   "outputs": [
    {
     "data": {
      "text/plain": [
       "RandomForestClassifier(bootstrap=True, ccp_alpha=0.0, class_weight=None,\n",
       "                       criterion='entropy', max_depth=12, max_features='log2',\n",
       "                       max_leaf_nodes=None, max_samples=None,\n",
       "                       min_impurity_decrease=0.0, min_impurity_split=None,\n",
       "                       min_samples_leaf=1, min_samples_split=5,\n",
       "                       min_weight_fraction_leaf=0.0, n_estimators=90,\n",
       "                       n_jobs=None, oob_score=False, random_state=6, verbose=0,\n",
       "                       warm_start=False)"
      ]
     },
     "execution_count": 467,
     "metadata": {},
     "output_type": "execute_result"
    }
   ],
   "source": [
    "# Model Training RandomForestClassifier\n",
    "\n",
    "rand_clf.fit(X_train,y_train)"
   ]
  },
  {
   "cell_type": "code",
   "execution_count": 468,
   "id": "94cb445c",
   "metadata": {},
   "outputs": [
    {
     "data": {
      "text/plain": [
       "0.9860151642796967"
      ]
     },
     "execution_count": 468,
     "metadata": {},
     "output_type": "execute_result"
    }
   ],
   "source": [
    "# Score for RandomForestClassifier\n",
    "\n",
    "rand_clf.score(X_test,y_test)"
   ]
  },
  {
   "cell_type": "markdown",
   "id": "13c00e26",
   "metadata": {},
   "source": [
    "4. SVM"
   ]
  },
  {
   "cell_type": "code",
   "execution_count": 469,
   "id": "5ef02281",
   "metadata": {},
   "outputs": [],
   "source": [
    "# Model with Default Parameters SVC\n",
    "\n",
    "model = SVC()\n",
    "model.fit(X_train, y_train)"
   ]
  },
  {
   "cell_type": "code",
   "execution_count": 470,
   "id": "6fc654b1",
   "metadata": {},
   "outputs": [
    {
     "name": "stdout",
     "output_type": "stream",
     "text": [
      "              precision    recall  f1-score   support\n",
      "\n",
      "           0       1.00      0.97      0.98      2997\n",
      "           1       0.97      1.00      0.98      2938\n",
      "\n",
      "    accuracy                           0.98      5935\n",
      "   macro avg       0.98      0.98      0.98      5935\n",
      "weighted avg       0.98      0.98      0.98      5935\n",
      "\n"
     ]
    }
   ],
   "source": [
    "# print prediction results\n",
    "\n",
    "predictions = model.predict(X_test)\n",
    "print(classification_report(y_test, predictions))"
   ]
  },
  {
   "cell_type": "code",
   "execution_count": 574,
   "id": "38fe4c61",
   "metadata": {},
   "outputs": [],
   "source": [
    "# Entering all the possible range Values for the Grid Parameterization\n",
    "\n",
    "param_grid = {'C': [0.1, 1, 10, 100, 1000], \n",
    "              'gamma': [1, 0.1, 0.01, 0.001, 0.0001],\n",
    "              'kernel': ['rbf']} \n",
    "  \n",
    "grid = GridSearchCV(SVC(), param_grid, refit = True, verbose = 3)\n",
    "  \n",
    "# fitting the model for grid search\n",
    "\n",
    "grid.fit(X_train, y_train)"
   ]
  },
  {
   "cell_type": "code",
   "execution_count": null,
   "id": "886edcb9",
   "metadata": {},
   "outputs": [],
   "source": [
    "# Checking the best parameters\n",
    "\n",
    "grid.best_params_\n",
    "# {C=0.1, gamma=0.01, kernel=rbf}"
   ]
  },
  {
   "cell_type": "code",
   "execution_count": 473,
   "id": "8974c77f",
   "metadata": {},
   "outputs": [
    {
     "data": {
      "text/plain": [
       "SVC(C=0.1, break_ties=False, cache_size=200, class_weight=None, coef0=0.0,\n",
       "    decision_function_shape='ovr', degree=3, gamma=0.01, kernel='rbf',\n",
       "    max_iter=-1, probability=False, random_state=None, shrinking=True,\n",
       "    tol=0.001, verbose=False)"
      ]
     },
     "execution_count": 473,
     "metadata": {},
     "output_type": "execute_result"
    }
   ],
   "source": [
    "# Training with the Best Parameter combination\n",
    "\n",
    "model = SVC(C=0.1, gamma=0.01, kernel='rbf')\n",
    "model.fit(X_train, y_train)\n"
   ]
  },
  {
   "cell_type": "code",
   "execution_count": null,
   "id": "fc810fb0",
   "metadata": {},
   "outputs": [],
   "source": []
  },
  {
   "cell_type": "code",
   "execution_count": 475,
   "id": "3c0deaae",
   "metadata": {},
   "outputs": [
    {
     "name": "stdout",
     "output_type": "stream",
     "text": [
      "              precision    recall  f1-score   support\n",
      "\n",
      "           0       0.92      0.87      0.89      2997\n",
      "           1       0.88      0.92      0.90      2938\n",
      "\n",
      "    accuracy                           0.89      5935\n",
      "   macro avg       0.90      0.89      0.89      5935\n",
      "weighted avg       0.90      0.89      0.89      5935\n",
      "\n"
     ]
    }
   ],
   "source": [
    "grid_predictions = model.predict(X_test)\n",
    "  \n",
    "#Classification report\n",
    "\n",
    "print(classification_report(y_test, grid_predictions))"
   ]
  },
  {
   "cell_type": "markdown",
   "id": "03f3ec50",
   "metadata": {},
   "source": [
    "Now we've some better result than previous Models."
   ]
  },
  {
   "cell_type": "code",
   "execution_count": null,
   "id": "9e2b64e3",
   "metadata": {},
   "outputs": [],
   "source": []
  }
 ],
 "metadata": {
  "kernelspec": {
   "display_name": "Python 3",
   "language": "python",
   "name": "python3"
  },
  "language_info": {
   "codemirror_mode": {
    "name": "ipython",
    "version": 3
   },
   "file_extension": ".py",
   "mimetype": "text/x-python",
   "name": "python",
   "nbconvert_exporter": "python",
   "pygments_lexer": "ipython3",
   "version": "3.7.4"
  }
 },
 "nbformat": 4,
 "nbformat_minor": 5
}
